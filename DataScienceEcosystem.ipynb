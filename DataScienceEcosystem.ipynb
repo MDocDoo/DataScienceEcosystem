{
 "cells": [
  {
   "cell_type": "markdown",
   "id": "b7e720b3",
   "metadata": {},
   "source": [
    "# Data Science Tools and Ecosystem"
   ]
  },
  {
   "cell_type": "markdown",
   "id": "e1d17bb3",
   "metadata": {},
   "source": [
    "_In this notebook, Data Science Tools and Ecosystem are summarized._"
   ]
  },
  {
   "cell_type": "markdown",
   "id": "d0eafd4a",
   "metadata": {},
   "source": [
    "## __Objectives:__\n",
    "- Introduction\n",
    "- Data Science Languages\n",
    "- Data Science Libraries\n",
    "- Data Science Tools\n",
    "- Python Arithmetic Examples\n"
   ]
  },
  {
   "cell_type": "markdown",
   "id": "3eb9d8c7",
   "metadata": {},
   "source": [
    "## Some of the popular languages that Data Scientists use are:\n",
    "1. R.\n",
    "2. Python\n",
    "3. Javascript\n",
    "4. SQL\n"
   ]
  },
  {
   "cell_type": "markdown",
   "id": "9af09084",
   "metadata": {},
   "source": [
    "## Some of the commonly used libraries used by Data Scientists include:\n",
    "1. Tensorflow.\n",
    "2. Pandas\n",
    "3. SciPy\n",
    "4. NumPy"
   ]
  },
  {
   "cell_type": "markdown",
   "id": "53dbcb92",
   "metadata": {},
   "source": [
    "| Data Science Tools |\n",
    "  --------------------\n",
    "   | Apache Hadoop |\n",
    "   | RStudio.      |\n",
    "   | Apache Spark. |\n",
    "   | TensorFlow    |"
   ]
  },
  {
   "cell_type": "markdown",
   "id": "d2e2e3ff",
   "metadata": {},
   "source": [
    "### Below are a few examples of evaluating arithmetic expressions in Python"
   ]
  },
  {
   "cell_type": "code",
   "execution_count": 11,
   "id": "38cf62d1",
   "metadata": {},
   "outputs": [
    {
     "data": {
      "text/plain": [
       "17"
      ]
     },
     "execution_count": 11,
     "metadata": {},
     "output_type": "execute_result"
    }
   ],
   "source": [
    "# This a simple arithmetic expression to mutiply then add integers\n",
    "(3*4)+5"
   ]
  },
  {
   "cell_type": "code",
   "execution_count": 12,
   "id": "ce67f3a7",
   "metadata": {},
   "outputs": [
    {
     "data": {
      "text/plain": [
       "3.3333333333333335"
      ]
     },
     "execution_count": 12,
     "metadata": {},
     "output_type": "execute_result"
    }
   ],
   "source": [
    "# This will convert 200 minutes to hours by diving by 60\n",
    "200/60"
   ]
  },
  {
   "cell_type": "markdown",
   "id": "05b76436",
   "metadata": {},
   "source": [
    "## Author\n",
    "Matthew Doolittle"
   ]
  },
  {
   "cell_type": "code",
   "execution_count": null,
   "id": "0839ed5c",
   "metadata": {},
   "outputs": [],
   "source": []
  }
 ],
 "metadata": {
  "kernelspec": {
   "display_name": "Python 3 (ipykernel)",
   "language": "python",
   "name": "python3"
  },
  "language_info": {
   "codemirror_mode": {
    "name": "ipython",
    "version": 3
   },
   "file_extension": ".py",
   "mimetype": "text/x-python",
   "name": "python",
   "nbconvert_exporter": "python",
   "pygments_lexer": "ipython3",
   "version": "3.10.9"
  }
 },
 "nbformat": 4,
 "nbformat_minor": 5
}
